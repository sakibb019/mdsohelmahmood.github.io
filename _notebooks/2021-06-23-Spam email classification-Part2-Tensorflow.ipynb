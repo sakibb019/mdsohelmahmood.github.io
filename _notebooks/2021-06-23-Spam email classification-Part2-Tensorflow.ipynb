{
 "cells": [
  {
   "cell_type": "markdown",
   "id": "be4c3e6d",
   "metadata": {},
   "source": [
    "# Spam email classification in Tensorflow\n",
    "> Here we will walk through the spam emails classification using Tensorflow. Tensorflow provides wide variety of controls in processing texts.  "
   ]
  },
  {
   "cell_type": "code",
   "execution_count": 24,
   "id": "68f2ca3a",
   "metadata": {},
   "outputs": [],
   "source": [
    "import numpy as np\n",
    "import pandas as pd\n",
    "import tensorflow as tf\n",
    "from tensorflow.keras.preprocessing.text import Tokenizer\n",
    "from tensorflow.keras.preprocessing.sequence import pad_sequences"
   ]
  },
  {
   "cell_type": "markdown",
   "id": "7575ed7a",
   "metadata": {},
   "source": [
    "# Define the hyperparameters"
   ]
  },
  {
   "cell_type": "code",
   "execution_count": 25,
   "id": "a0002406",
   "metadata": {},
   "outputs": [],
   "source": [
    "vocab_size = 1000\n",
    "embedding_dim = 64\n",
    "max_length = 120\n",
    "trunc_type='post'\n",
    "padding_type='post'\n",
    "oov_tok = \"<OOV>\""
   ]
  },
  {
   "cell_type": "code",
   "execution_count": 26,
   "id": "13f297e3",
   "metadata": {},
   "outputs": [
    {
     "data": {
      "text/html": [
       "<div>\n",
       "<style scoped>\n",
       "    .dataframe tbody tr th:only-of-type {\n",
       "        vertical-align: middle;\n",
       "    }\n",
       "\n",
       "    .dataframe tbody tr th {\n",
       "        vertical-align: top;\n",
       "    }\n",
       "\n",
       "    .dataframe thead th {\n",
       "        text-align: right;\n",
       "    }\n",
       "</style>\n",
       "<table border=\"1\" class=\"dataframe\">\n",
       "  <thead>\n",
       "    <tr style=\"text-align: right;\">\n",
       "      <th></th>\n",
       "      <th>label</th>\n",
       "      <th>text</th>\n",
       "    </tr>\n",
       "  </thead>\n",
       "  <tbody>\n",
       "    <tr>\n",
       "      <th>0</th>\n",
       "      <td>ham</td>\n",
       "      <td>Go until jurong point, crazy.. Available only ...</td>\n",
       "    </tr>\n",
       "    <tr>\n",
       "      <th>1</th>\n",
       "      <td>ham</td>\n",
       "      <td>Ok lar... Joking wif u oni...</td>\n",
       "    </tr>\n",
       "    <tr>\n",
       "      <th>2</th>\n",
       "      <td>spam</td>\n",
       "      <td>Free entry in 2 a wkly comp to win FA Cup fina...</td>\n",
       "    </tr>\n",
       "    <tr>\n",
       "      <th>3</th>\n",
       "      <td>ham</td>\n",
       "      <td>U dun say so early hor... U c already then say...</td>\n",
       "    </tr>\n",
       "    <tr>\n",
       "      <th>4</th>\n",
       "      <td>ham</td>\n",
       "      <td>Nah I don't think he goes to usf, he lives aro...</td>\n",
       "    </tr>\n",
       "    <tr>\n",
       "      <th>...</th>\n",
       "      <td>...</td>\n",
       "      <td>...</td>\n",
       "    </tr>\n",
       "    <tr>\n",
       "      <th>5567</th>\n",
       "      <td>spam</td>\n",
       "      <td>This is the 2nd time we have tried 2 contact u...</td>\n",
       "    </tr>\n",
       "    <tr>\n",
       "      <th>5568</th>\n",
       "      <td>ham</td>\n",
       "      <td>Will Ì_ b going to esplanade fr home?</td>\n",
       "    </tr>\n",
       "    <tr>\n",
       "      <th>5569</th>\n",
       "      <td>ham</td>\n",
       "      <td>Pity, * was in mood for that. So...any other s...</td>\n",
       "    </tr>\n",
       "    <tr>\n",
       "      <th>5570</th>\n",
       "      <td>ham</td>\n",
       "      <td>The guy did some bitching but I acted like i'd...</td>\n",
       "    </tr>\n",
       "    <tr>\n",
       "      <th>5571</th>\n",
       "      <td>ham</td>\n",
       "      <td>Rofl. Its true to its name</td>\n",
       "    </tr>\n",
       "  </tbody>\n",
       "</table>\n",
       "<p>5572 rows × 2 columns</p>\n",
       "</div>"
      ],
      "text/plain": [
       "     label                                               text\n",
       "0      ham  Go until jurong point, crazy.. Available only ...\n",
       "1      ham                      Ok lar... Joking wif u oni...\n",
       "2     spam  Free entry in 2 a wkly comp to win FA Cup fina...\n",
       "3      ham  U dun say so early hor... U c already then say...\n",
       "4      ham  Nah I don't think he goes to usf, he lives aro...\n",
       "...    ...                                                ...\n",
       "5567  spam  This is the 2nd time we have tried 2 contact u...\n",
       "5568   ham              Will Ì_ b going to esplanade fr home?\n",
       "5569   ham  Pity, * was in mood for that. So...any other s...\n",
       "5570   ham  The guy did some bitching but I acted like i'd...\n",
       "5571   ham                         Rofl. Its true to its name\n",
       "\n",
       "[5572 rows x 2 columns]"
      ]
     },
     "execution_count": 26,
     "metadata": {},
     "output_type": "execute_result"
    }
   ],
   "source": [
    "spam = pd.read_csv('spam.csv',  encoding='latin-1')\n",
    "spam = spam.filter(['v1','v2'], axis=1)\n",
    "spam.columns = ['label', 'text']\n",
    "spam"
   ]
  },
  {
   "cell_type": "markdown",
   "id": "7ae3995d",
   "metadata": {},
   "source": [
    "# First distinguish between the labels and the text"
   ]
  },
  {
   "cell_type": "code",
   "execution_count": 27,
   "id": "6dad0e18",
   "metadata": {},
   "outputs": [],
   "source": [
    "sentences = []\n",
    "labels = []\n",
    "for i in range(0,spam.shape[0],1):\n",
    "    sentences.append(spam['text'][i])\n",
    "    labels.append(spam['label'][i])"
   ]
  },
  {
   "cell_type": "markdown",
   "id": "95296aaa",
   "metadata": {},
   "source": [
    "# Allocate 80% of the data for training"
   ]
  },
  {
   "cell_type": "code",
   "execution_count": 28,
   "id": "f0657114",
   "metadata": {},
   "outputs": [],
   "source": [
    "training_size = int(spam.shape[0]*0.8)\n",
    "training_sentences = sentences[0:training_size]\n",
    "testing_sentences = sentences[training_size:]\n",
    "training_labels_str = labels[0:training_size]\n",
    "testing_labels_str = labels[training_size:]"
   ]
  },
  {
   "cell_type": "markdown",
   "id": "97543f17",
   "metadata": {},
   "source": [
    "# Encoding the string labels to 0 and 1 (1 for real email and 0 for spam)"
   ]
  },
  {
   "cell_type": "code",
   "execution_count": 29,
   "id": "c4aa0525",
   "metadata": {},
   "outputs": [],
   "source": [
    "training_labels = [0] * len(training_labels_str)\n",
    "for ind,item in enumerate(training_labels_str):\n",
    "    if item == 'ham':\n",
    "        training_labels[ind] = 1\n",
    "    else:\n",
    "        training_labels[ind] = 0\n",
    "        \n",
    "testing_labels = [0] * len(testing_labels_str)\n",
    "for ind,item in enumerate(testing_labels_str):\n",
    "    if item == 'ham':\n",
    "        testing_labels[ind] = 1\n",
    "    else:\n",
    "        testing_labels[ind] = 0"
   ]
  },
  {
   "cell_type": "markdown",
   "id": "6b50944d",
   "metadata": {},
   "source": [
    "# Converting texts and labels to numpy array to feed into the model"
   ]
  },
  {
   "cell_type": "code",
   "execution_count": 30,
   "id": "8ccc6cf3",
   "metadata": {},
   "outputs": [],
   "source": [
    "training_padded = np.array(training_padded)\n",
    "testing_padded = np.array(testing_padded)\n",
    "\n",
    "training_labels = np.array(training_labels)\n",
    "testing_labels = np.array(testing_labels)"
   ]
  },
  {
   "cell_type": "markdown",
   "id": "822d6512",
   "metadata": {},
   "source": [
    "# Start tokenizing the text of the data"
   ]
  },
  {
   "cell_type": "code",
   "execution_count": 31,
   "id": "4b1f222c",
   "metadata": {},
   "outputs": [],
   "source": [
    "tokenizer = Tokenizer(num_words=vocab_size, oov_token=oov_tok)\n",
    "tokenizer.fit_on_texts(training_sentences)\n",
    "\n",
    "word_index = tokenizer.word_index"
   ]
  },
  {
   "cell_type": "markdown",
   "id": "83582622",
   "metadata": {},
   "source": [
    "# Pad the data to make all data have equal length"
   ]
  },
  {
   "cell_type": "code",
   "execution_count": 32,
   "id": "747b434f",
   "metadata": {},
   "outputs": [],
   "source": [
    "training_sequences = tokenizer.texts_to_sequences(training_sentences)\n",
    "training_padded = pad_sequences(training_sequences, maxlen=max_length, padding=padding_type, truncating=trunc_type)\n",
    "\n",
    "testing_sequences = tokenizer.texts_to_sequences(testing_sentences)\n",
    "testing_padded = pad_sequences(testing_sequences, maxlen=max_length, padding=padding_type, truncating=trunc_type)\n"
   ]
  },
  {
   "cell_type": "markdown",
   "id": "1f4477b8",
   "metadata": {},
   "source": [
    "# Define the RNN model with bidirectional LSTM algorithm."
   ]
  },
  {
   "cell_type": "code",
   "execution_count": 33,
   "id": "b9a7e201",
   "metadata": {},
   "outputs": [],
   "source": [
    "model = tf.keras.Sequential([\n",
    "    tf.keras.layers.Embedding(vocab_size, embedding_dim, input_length=max_length),\n",
    "    tf.keras.layers.Bidirectional(tf.keras.layers.LSTM(32)),\n",
    "    tf.keras.layers.Dense(24, activation='relu'),\n",
    "    tf.keras.layers.Dropout(0.25),\n",
    "    tf.keras.layers.Dense(1, activation='sigmoid')\n",
    "])"
   ]
  },
  {
   "cell_type": "code",
   "execution_count": 34,
   "id": "b017f68d",
   "metadata": {},
   "outputs": [
    {
     "name": "stdout",
     "output_type": "stream",
     "text": [
      "Model: \"sequential_2\"\n",
      "_________________________________________________________________\n",
      "Layer (type)                 Output Shape              Param #   \n",
      "=================================================================\n",
      "embedding_2 (Embedding)      (None, 120, 64)           64000     \n",
      "_________________________________________________________________\n",
      "bidirectional_2 (Bidirection (None, 64)                24832     \n",
      "_________________________________________________________________\n",
      "dense_4 (Dense)              (None, 24)                1560      \n",
      "_________________________________________________________________\n",
      "dropout_2 (Dropout)          (None, 24)                0         \n",
      "_________________________________________________________________\n",
      "dense_5 (Dense)              (None, 1)                 25        \n",
      "=================================================================\n",
      "Total params: 90,417\n",
      "Trainable params: 90,417\n",
      "Non-trainable params: 0\n",
      "_________________________________________________________________\n"
     ]
    }
   ],
   "source": [
    "adam = tf.keras.optimizers.Adam(learning_rate=0.0001, beta_1=0.9, beta_2=0.999, amsgrad=False)\n",
    "\n",
    "model.compile(loss='binary_crossentropy',optimizer=adam,metrics=['accuracy'])\n",
    "model.summary()"
   ]
  },
  {
   "cell_type": "code",
   "execution_count": 35,
   "id": "70828d51",
   "metadata": {},
   "outputs": [
    {
     "name": "stdout",
     "output_type": "stream",
     "text": [
      "Epoch 1/20\n",
      "140/140 [==============================] - 10s 46ms/step - loss: 0.5698 - accuracy: 0.8275 - val_loss: 0.3547 - val_accuracy: 0.8700\n",
      "Epoch 2/20\n",
      "140/140 [==============================] - 6s 41ms/step - loss: 0.3358 - accuracy: 0.8652 - val_loss: 0.2574 - val_accuracy: 0.8700\n",
      "Epoch 3/20\n",
      "140/140 [==============================] - 6s 41ms/step - loss: 0.2310 - accuracy: 0.8912 - val_loss: 0.1612 - val_accuracy: 0.9641\n",
      "Epoch 4/20\n",
      "140/140 [==============================] - 7s 49ms/step - loss: 0.1463 - accuracy: 0.9654 - val_loss: 0.1035 - val_accuracy: 0.9722\n",
      "Epoch 5/20\n",
      "140/140 [==============================] - 6s 46ms/step - loss: 0.1003 - accuracy: 0.9749 - val_loss: 0.0720 - val_accuracy: 0.9785\n",
      "Epoch 6/20\n",
      "140/140 [==============================] - 7s 49ms/step - loss: 0.0720 - accuracy: 0.9841 - val_loss: 0.0579 - val_accuracy: 0.9803\n",
      "Epoch 7/20\n",
      "140/140 [==============================] - 7s 48ms/step - loss: 0.0598 - accuracy: 0.9865 - val_loss: 0.0525 - val_accuracy: 0.9830\n",
      "Epoch 8/20\n",
      "140/140 [==============================] - 7s 49ms/step - loss: 0.0515 - accuracy: 0.9890 - val_loss: 0.0519 - val_accuracy: 0.9830\n",
      "Epoch 9/20\n",
      "140/140 [==============================] - 7s 48ms/step - loss: 0.0418 - accuracy: 0.9904 - val_loss: 0.0506 - val_accuracy: 0.9839\n",
      "Epoch 10/20\n",
      "140/140 [==============================] - 7s 48ms/step - loss: 0.0404 - accuracy: 0.9901 - val_loss: 0.0518 - val_accuracy: 0.9839\n",
      "Epoch 11/20\n",
      "140/140 [==============================] - 7s 48ms/step - loss: 0.0336 - accuracy: 0.9910 - val_loss: 0.0537 - val_accuracy: 0.9848\n",
      "Epoch 12/20\n",
      "140/140 [==============================] - 6s 44ms/step - loss: 0.0320 - accuracy: 0.9926 - val_loss: 0.0539 - val_accuracy: 0.9839\n",
      "Epoch 13/20\n",
      "140/140 [==============================] - 6s 46ms/step - loss: 0.0282 - accuracy: 0.9944 - val_loss: 0.0547 - val_accuracy: 0.9839\n",
      "Epoch 14/20\n",
      "140/140 [==============================] - 7s 51ms/step - loss: 0.0261 - accuracy: 0.9953 - val_loss: 0.0570 - val_accuracy: 0.9839\n",
      "Epoch 15/20\n",
      "140/140 [==============================] - 7s 48ms/step - loss: 0.0220 - accuracy: 0.9953 - val_loss: 0.0602 - val_accuracy: 0.9830\n",
      "Epoch 16/20\n",
      "140/140 [==============================] - 7s 49ms/step - loss: 0.0221 - accuracy: 0.9951 - val_loss: 0.0593 - val_accuracy: 0.9839\n",
      "Epoch 17/20\n",
      "140/140 [==============================] - 7s 49ms/step - loss: 0.0196 - accuracy: 0.9953 - val_loss: 0.0574 - val_accuracy: 0.9830\n",
      "Epoch 18/20\n",
      "140/140 [==============================] - 7s 48ms/step - loss: 0.0185 - accuracy: 0.9960 - val_loss: 0.0607 - val_accuracy: 0.9839\n",
      "Epoch 19/20\n",
      "140/140 [==============================] - 7s 48ms/step - loss: 0.0166 - accuracy: 0.9962 - val_loss: 0.0615 - val_accuracy: 0.9839\n",
      "Epoch 20/20\n",
      "140/140 [==============================] - 7s 49ms/step - loss: 0.0158 - accuracy: 0.9969 - val_loss: 0.0633 - val_accuracy: 0.9821\n"
     ]
    }
   ],
   "source": [
    "num_epochs = 20\n",
    "history = model.fit(training_padded, training_labels, epochs=num_epochs, \\\n",
    "                    validation_data=(testing_padded, testing_labels), verbose=1)"
   ]
  },
  {
   "cell_type": "code",
   "execution_count": 36,
   "id": "3f01b7a0",
   "metadata": {},
   "outputs": [
    {
     "data": {
      "image/png": "[encoded data removed]",
      "text/plain": [
       "<Figure size 432x288 with 1 Axes>"
      ]
     },
     "metadata": {
      "needs_background": "light"
     },
     "output_type": "display_data"
    },
    {
     "data": {
      "image/png": "[encoded data removed]",
      "text/plain": [
       "<Figure size 432x288 with 1 Axes>"
      ]
     },
     "metadata": {
      "needs_background": "light"
     },
     "output_type": "display_data"
    }
   ],
   "source": [
    "import matplotlib.pyplot as plt\n",
    "\n",
    "def plot_graphs(history, string):\n",
    "  plt.plot(history.history[string])\n",
    "  plt.plot(history.history['val_'+string])\n",
    "  plt.xlabel(\"Epochs\")\n",
    "  plt.ylabel(string)\n",
    "  plt.legend([string, 'val_'+string])\n",
    "  plt.show()\n",
    "\n",
    "plot_graphs(history, 'accuracy')\n",
    "plot_graphs(history, 'loss')"
   ]
  },
  {
   "cell_type": "code",
   "execution_count": 37,
   "id": "40ef90f4",
   "metadata": {},
   "outputs": [],
   "source": [
    "X_train = training_padded\n",
    "X_test = testing_padded\n",
    "\n",
    "y_train = training_labels\n",
    "y_test = testing_labels"
   ]
  },
  {
   "cell_type": "code",
   "execution_count": 38,
   "id": "1fdeed23",
   "metadata": {},
   "outputs": [],
   "source": [
    "from sklearn.metrics import confusion_matrix, classification_report, accuracy_score\n",
    "y_pred = model.predict(X_test)\n",
    "\n",
    "# Convert predicted values to either 0 or 1\n",
    "y_prediction = [0] * y_pred.shape[0]\n",
    "for ind,item in enumerate(y_pred):\n",
    "    if item > 0.5:\n",
    "        y_prediction[ind] = 1\n",
    "    else:\n",
    "        y_prediction[ind] = 0\n",
    "\n",
    "rep = classification_report(y_test, y_prediction)"
   ]
  },
  {
   "cell_type": "code",
   "execution_count": 39,
   "id": "e33fbfe8",
   "metadata": {},
   "outputs": [
    {
     "name": "stdout",
     "output_type": "stream",
     "text": [
      "              precision    recall  f1-score   support\n",
      "\n",
      "           0       0.94      0.92      0.93       145\n",
      "           1       0.99      0.99      0.99       970\n",
      "\n",
      "    accuracy                           0.98      1115\n",
      "   macro avg       0.97      0.95      0.96      1115\n",
      "weighted avg       0.98      0.98      0.98      1115\n",
      "\n"
     ]
    }
   ],
   "source": [
    "print(rep)"
   ]
  },
  {
   "cell_type": "markdown",
   "id": "52c9a87b",
   "metadata": {},
   "source": [
    "# Check a random text"
   ]
  },
  {
   "cell_type": "code",
   "execution_count": 40,
   "id": "6b22031b",
   "metadata": {},
   "outputs": [
    {
     "name": "stdout",
     "output_type": "stream",
     "text": [
      "This is a spam\n"
     ]
    }
   ],
   "source": [
    "sample_text = [\"Winner!!! Darling please click the link to claim your free prize\"]\n",
    "\n",
    "sample_text_tokenized  = tokenizer.texts_to_sequences(sample_text)\n",
    "sample_text_tokenized_padded = pad_sequences(sample_text_tokenized, maxlen=max_length, padding=padding_type, truncating=trunc_type)\n",
    "\n",
    "# 0 for spam and 1 for real\n",
    "pred = float(model.predict(sample_text_tokenized_padded))\n",
    "if (pred>0.5):\n",
    "    print (\"This is a real email\")\n",
    "else:\n",
    "    print(\"This is a spam\")"
   ]
  },
  {
   "cell_type": "code",
   "execution_count": null,
   "id": "60adca10",
   "metadata": {},
   "outputs": [],
   "source": []
  }
 ],
 "metadata": {
  "kernelspec": {
   "display_name": "Python 3",
   "language": "python",
   "name": "python3"
  },
  "language_info": {
   "codemirror_mode": {
    "name": "ipython",
    "version": 3
   },
   "file_extension": ".py",
   "mimetype": "text/x-python",
   "name": "python",
   "nbconvert_exporter": "python",
   "pygments_lexer": "ipython3",
   "version": "3.8.8"
  }
 },
 "nbformat": 4,
 "nbformat_minor": 5
}
